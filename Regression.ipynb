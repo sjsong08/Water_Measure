{
 "cells": [
  {
   "cell_type": "code",
   "execution_count": 1,
   "metadata": {
    "collapsed": false,
    "deletable": true,
    "editable": true
   },
   "outputs": [],
   "source": [
    "import numpy as np\n",
    "import tensorflow as tf\n",
    "import matplotlib.pyplot as plt\n",
    "import scipy.io\n",
    "%matplotlib inline\n",
    "\n",
    "mfile = scipy.io.loadmat('../../../Dropbox/ML/Water/Data/water_final2.mat')\n",
    "\n",
    "RGB           = mfile['RGB']\n",
    "RGB_linear    = mfile['RGB_linear']\n",
    "\n",
    "HSV           = mfile['HSV']\n",
    "HSV_linear    = mfile['HSV_linear1']\n",
    "\n",
    "Lab           = mfile['Lab']\n",
    "Lab_linear    = mfile['Lab_linear2']\n",
    "\n",
    "xyz           = mfile['xyz']\n",
    "\n",
    "uv            = mfile['uv']\n",
    "\n",
    "YCbCr         = mfile['Ycbcr']\n",
    "YCbCr_linear  = mfile['Ycbcr_linear']\n",
    "\n",
    "Label         = mfile['Label']"
   ]
  },
  {
   "cell_type": "code",
   "execution_count": 2,
   "metadata": {
    "collapsed": false,
    "deletable": true,
    "editable": true
   },
   "outputs": [],
   "source": [
    "rs  = 0     # start of training set\n",
    "re  = 140   # end of training set\n",
    "ss  = 140   # start of test set\n",
    "se  = 210   # end of test set\n",
    "mrs = 0     # start of Median training set\n",
    "mre = 13    # end of Median training set\n",
    "mss = 14    # start of Median test set\n",
    "mse = 20    # end of Median test set"
   ]
  },
  {
   "cell_type": "code",
   "execution_count": null,
   "metadata": {
    "collapsed": false,
    "deletable": true,
    "editable": true,
    "scrolled": true
   },
   "outputs": [],
   "source": []
  },
  {
   "cell_type": "code",
   "execution_count": 11,
   "metadata": {
    "collapsed": false,
    "deletable": true,
    "editable": true
   },
   "outputs": [],
   "source": [
    "device_type = \"/cpu:0\"\n",
    "with tf.device(device_type):\n",
    "    W11 = tf.Variable(tf.random_uniform([1],-1.,1.))\n",
    "    W12 = tf.Variable(tf.random_uniform([1],-1.,1.))\n",
    "    W13 = tf.Variable(tf.random_uniform([1],-1.,1.))\n",
    "    W14 = tf.Variable(tf.random_uniform([1],-1.,1.))\n",
    "    W15 = tf.Variable(tf.random_uniform([1],-1.,1.))\n",
    "\n",
    "    W21 = tf.Variable(tf.random_uniform([1],-1.,1.))\n",
    "    W22 = tf.Variable(tf.random_uniform([1],-1.,1.))\n",
    "    W23 = tf.Variable(tf.random_uniform([1],-1.,1.))\n",
    "    W24 = tf.Variable(tf.random_uniform([1],-1.,1.))\n",
    "    W25 = tf.Variable(tf.random_uniform([1],-1.,1.))\n",
    "\n",
    "    W31 = tf.Variable(tf.random_uniform([1],-1.,1.))\n",
    "    W32 = tf.Variable(tf.random_uniform([1],-1.,1.))\n",
    "    W33 = tf.Variable(tf.random_uniform([1],-1.,1.))\n",
    "    W34 = tf.Variable(tf.random_uniform([1],-1.,1.))\n",
    "    W35 = tf.Variable(tf.random_uniform([1],-1.,1.))\n",
    "\n",
    "    W41 = tf.Variable(tf.random_uniform([1],-1.,1.))\n",
    "    W42 = tf.Variable(tf.random_uniform([1],-1.,1.))\n",
    "    W43 = tf.Variable(tf.random_uniform([1],-1.,1.))\n",
    "    W44 = tf.Variable(tf.random_uniform([1],-1.,1.))\n",
    "    W45 = tf.Variable(tf.random_uniform([1],-1.,1.))\n",
    "\n",
    "    W51 = tf.Variable(tf.random_uniform([1],-1.,1.))\n",
    "    W52 = tf.Variable(tf.random_uniform([1],-1.,1.))\n",
    "    W53 = tf.Variable(tf.random_uniform([1],-1.,1.))\n",
    "    W54 = tf.Variable(tf.random_uniform([1],-1.,1.))\n",
    "    W55 = tf.Variable(tf.random_uniform([1],-1.,1.))\n",
    "    \n",
    "    W = tf.Variable(tf.random_uniform([5,9],-1.,1.))\n",
    "    \n",
    "    b1 = tf.Variable(tf.zeros([1]))\n",
    "    b2 = tf.Variable(tf.zeros([1]))\n",
    "    b3 = tf.Variable(tf.zeros([1]))\n",
    "    b4 = tf.Variable(tf.zeros([1]))\n",
    "    b5 = tf.Variable(tf.zeros([1]))\n",
    "    b = tf.Variable(tf.zeros([5]))\n",
    "\n",
    "    X1 = tf.placeholder(\"float\",[None])\n",
    "    X2 = tf.placeholder(\"float\",[None])\n",
    "    X3 = tf.placeholder(\"float\",[None])\n",
    "    X4 = tf.placeholder(\"float\",[None])\n",
    "    X5 = tf.placeholder(\"float\",[None])\n",
    "    Y  = tf.placeholder(\"float\",[None])\n",
    "\n",
    "    out1 =W11*(X1**2) + W12*(X2**2) + W13*(X1) + W14*(X2) + W15*(X1*X2) + b1 # W11*(X1)+W12*(X2)+b1#\n",
    "    out2 = W21*(X1**2) + W22*(X2**2) + W23*(X1) + W24*(X2) + W25*(X1*X2) + b2 # W21*(X1)+W22*(X2)+b2#\n",
    "    out3 = W31*(X1**2) + W32*(X2**2) + W33*(X1) + W34*(X2) + W35*(X1*X2) + b3 # W31*(X1)+W32*(X2)+b3#\n",
    "    out4 = W41*(X1**2) + W42*(X2**2) + W43*(X1) + W44*(X2) + W45*(X1*X2) + b4 # W41*(X1)+W42*(X2)+b4#\n",
    "    out5 = W51*(X1**2) + W52*(X2**2) + W53*(X1) + W54*(X2) + W55*(X1*X2) + b5 # W51*(X1)+W52*(X2)+b5#\n",
    "    out6 =  W[0,0]*(X1**2) + W[0,1]*(X2**2) + W[0,2]*(X1) + W[0,3]*(X2) + W[0,4]*(X1*X2) + b[0] # W[0,0]*(X1)+W[0,1]*(X2)+b[0]# \n",
    "    out7 = W[1,0]*(X1**2) + W[1,1]*(X2**2) + W[1,2]*(X1) + W[1,3]*(X2) + W[1,4]*(X1*X2) + b[1] # W[1,0]*(X1)+W[1,1]*(X2)+b[1]#\n",
    "    \n",
    "    out10 = W[4,0]*(X1**2) + W[4,1]*(X2**2) + W[4,2]*(X1) + W[4,3]*(X2) + W[4,4]*(X1*X2) + b[4] # W[4,0]*(X1)+W[4,1]*(X2)+b[4]#\n",
    "\n",
    "    out8 = W[2,0]*(X1**2)+W[2,1]*(X2**2)+W[2,2]*(X3**2)+W[2,3]*(X2)+W[2,4]*(X2)+W[2,5]*(X3)+W[2,6]*(X1*X2)+W[2,7]*(X2*X3)+W[2,8]*(X1*X3)+b[2] #W[2,0]*X1 + W[2,1]*X2 + W[2,2]*X3 + b[2] # \n",
    "    out9 = W[3,0]*X1 + W[3,1]*X2 + W[3,2]*X3 + b[3] # W[3,0]*(X1**2)+W[3,1]*(X2**2)+W[3,2]*(X3**2)+W[3,3]*(X2)+W[3,4]*(X2)+W[3,5]*(X3)+W[3,6]*(X1*X2)+W[3,7]*(X2*X3)+W[3,8]*(X1*X3)+b[3]"
   ]
  },
  {
   "cell_type": "code",
   "execution_count": 12,
   "metadata": {
    "collapsed": true,
    "deletable": true,
    "editable": true
   },
   "outputs": [],
   "source": [
    "with tf.device(device_type):\n",
    "    cost1 = tf.reduce_mean(tf.square(out1-Y))\n",
    "    optimizer1 = tf.train.AdamOptimizer(0.005,0.9).minimize(cost1)\n",
    "\n",
    "    cost2 = tf.reduce_mean(tf.square(out2-Y))\n",
    "    optimizer2 = tf.train.AdamOptimizer(0.005,0.9).minimize(cost2)\n",
    "\n",
    "    cost3 = tf.reduce_mean(tf.square(out3-Y))\n",
    "    optimizer3 = tf.train.AdamOptimizer(0.005,0.9).minimize(cost3)\n",
    "\n",
    "    cost4 = tf.reduce_mean(tf.square(out4-Y))\n",
    "    optimizer4 = tf.train.AdamOptimizer(0.005,0.9).minimize(cost4)\n",
    "\n",
    "    cost5 = tf.reduce_mean(tf.square(out5-Y))\n",
    "    optimizer5 = tf.train.AdamOptimizer(0.005,0.9).minimize(cost5)\n",
    "    \n",
    "    cost6 = tf.reduce_mean(tf.square(out6-Y))\n",
    "    optimizer6 = tf.train.AdamOptimizer(0.005,0.9).minimize(cost6)\n",
    "    \n",
    "    cost7 = tf.reduce_mean(tf.square(out7-Y))\n",
    "    optimizer7 = tf.train.AdamOptimizer(0.005,0.9).minimize(cost7)\n",
    "    \n",
    "    cost8 = tf.reduce_mean(tf.square(out8-Y))\n",
    "    optimizer8 = tf.train.AdamOptimizer(0.005,0.9).minimize(cost8)\n",
    "    \n",
    "    cost9 = tf.reduce_mean(tf.square(out9-Y))\n",
    "    optimizer9 = tf.train.AdamOptimizer(0.005,0.9).minimize(cost9)\n",
    "    \n",
    "    cost10 = tf.reduce_mean(tf.square(out10-Y))\n",
    "    optimizer10 = tf.train.AdamOptimizer(0.005,0.9).minimize(cost10)"
   ]
  },
  {
   "cell_type": "code",
   "execution_count": 13,
   "metadata": {
    "collapsed": false,
    "deletable": true,
    "editable": true
   },
   "outputs": [
    {
     "name": "stdout",
     "output_type": "stream",
     "text": [
      "WARNING:tensorflow:From <ipython-input-13-100fec23656d>:3 in <module>.: initialize_all_variables (from tensorflow.python.ops.variables) is deprecated and will be removed after 2017-03-02.\n",
      "Instructions for updating:\n",
      "Use `tf.global_variables_initializer` instead.\n"
     ]
    }
   ],
   "source": [
    "\n",
    "with tf.device(device_type):\n",
    "    init = tf.initialize_all_variables()\n",
    "    sess = tf.Session()\n",
    "    sess.run(init)"
   ]
  },
  {
   "cell_type": "code",
   "execution_count": 14,
   "metadata": {
    "collapsed": false,
    "deletable": true,
    "editable": true
   },
   "outputs": [],
   "source": [
    "display_step = 20000\n",
    "total_iteration = 400000"
   ]
  },
  {
   "cell_type": "code",
   "execution_count": 27,
   "metadata": {
    "collapsed": false,
    "deletable": true,
    "editable": true
   },
   "outputs": [
    {
     "name": "stdout",
     "output_type": "stream",
     "text": [
      "Tr cost = 188.497 Ts cost = 188.851\n",
      "Tr cost = 4.624 Ts cost = 4.751\n",
      "Tr cost = 4.227 Ts cost = 4.552\n",
      "Tr cost = 3.928 Ts cost = 4.044\n",
      "Tr cost = 3.685 Ts cost = 3.609\n",
      "Tr cost = 3.497 Ts cost = 3.246\n",
      "Tr cost = 3.361 Ts cost = 2.952\n",
      "Tr cost = 3.276 Ts cost = 2.729\n",
      "Tr cost = 3.240 Ts cost = 2.583\n",
      "Tr cost = 3.233 Ts cost = 2.532\n",
      "Tr cost = 3.229 Ts cost = 2.512\n",
      "Tr cost = 3.226 Ts cost = 2.497\n",
      "Tr cost = 3.224 Ts cost = 2.485\n",
      "Tr cost = 3.222 Ts cost = 2.474\n",
      "Tr cost = 3.221 Ts cost = 2.465\n",
      "Tr cost = 3.220 Ts cost = 2.458\n",
      "Tr cost = 3.219 Ts cost = 2.451\n",
      "Tr cost = 3.219 Ts cost = 2.446\n",
      "Tr cost = 3.218 Ts cost = 2.441\n",
      "Tr cost = 3.218 Ts cost = 2.437\n",
      " W11 = -144.587 \n",
      " W12 = -5.346 \n",
      " W13 = 770.772 \n",
      " W14 = 151.615 \n",
      " W15 = -640.810\n",
      "max_cost: 19.376\n"
     ]
    }
   ],
   "source": [
    "IN=HSV\n",
    "OUT=Label\n",
    "Tr1=IN[rs:re,0]\n",
    "Tr2=IN[rs:re,1]\n",
    "Ts1=IN[ss:se,0]\n",
    "Ts2=IN[ss:se,1]\n",
    "TrL=OUT[rs:re,0]\n",
    "TsL=OUT[ss:se,0]\n",
    "\n",
    "with tf.device(device_type):\n",
    "    for step in xrange(total_iteration):\n",
    "        sess.run(optimizer1, feed_dict={X1:Tr1,X2:Tr2, Y:TrL})\n",
    "\n",
    "        if step%display_step == 0:\n",
    "            costval1 = sess.run(cost1, feed_dict={X1:Tr1,X2:Tr2, Y:TrL})\n",
    "            testcost1 = sess.run(cost1, feed_dict={X1:Ts1,X2:Ts2, Y:TsL})\n",
    "            print('Tr cost = %.3f Ts cost = %.3f' %(costval1, testcost1))\n",
    "\n",
    "    W11out=sess.run(W11)\n",
    "    W12out=sess.run(W12)\n",
    "    W13out=sess.run(W13)\n",
    "    W14out=sess.run(W14)\n",
    "    W15out=sess.run(W15)\n",
    "    print(' W11 = %.3f \\n W12 = %.3f \\n W13 = %.3f \\n W14 = %.3f \\n W15 = %.3f' %(W11out, W12out, W13out, W14out, W15out))\n",
    "    \n",
    "    cost_out=(tf.square(out1 - Y))\n",
    "    cost_outp = sess.run(cost_out, feed_dict={X1:Ts1, X2:Ts2, Y:TsL})\n",
    "    print('max_cost: %.3f' %(np.max(cost_outp)))"
   ]
  },
  {
   "cell_type": "code",
   "execution_count": null,
   "metadata": {
    "collapsed": false,
    "deletable": true,
    "editable": true
   },
   "outputs": [],
   "source": []
  },
  {
   "cell_type": "code",
   "execution_count": 28,
   "metadata": {
    "collapsed": false,
    "deletable": true,
    "editable": true
   },
   "outputs": [
    {
     "name": "stdout",
     "output_type": "stream",
     "text": [
      "Tr cost = 195.695 Ts cost = 195.915\n",
      "Tr cost = 4.342 Ts cost = 5.253\n",
      "Tr cost = 4.210 Ts cost = 4.564\n",
      "Tr cost = 4.204 Ts cost = 4.555\n",
      "Tr cost = 4.199 Ts cost = 4.557\n",
      "Tr cost = 4.195 Ts cost = 4.559\n",
      "Tr cost = 4.191 Ts cost = 4.562\n",
      "Tr cost = 4.188 Ts cost = 4.565\n",
      "Tr cost = 4.186 Ts cost = 4.568\n",
      "Tr cost = 4.183 Ts cost = 4.571\n",
      "Tr cost = 4.181 Ts cost = 4.573\n",
      "Tr cost = 4.180 Ts cost = 4.575\n",
      "Tr cost = 4.178 Ts cost = 4.578\n",
      "Tr cost = 4.177 Ts cost = 4.580\n",
      "Tr cost = 4.176 Ts cost = 4.582\n",
      "Tr cost = 4.175 Ts cost = 4.584\n",
      "Tr cost = 4.174 Ts cost = 4.586\n",
      "Tr cost = 4.173 Ts cost = 4.588\n",
      "Tr cost = 4.173 Ts cost = 4.590\n",
      "Tr cost = 4.172 Ts cost = 4.591\n",
      " W21 = 40.194 \n",
      " W22 = -144.616 \n",
      " W23 = -17.070 \n",
      " W24 = 291.984 \n",
      " W25 = -86.922\n",
      "max_cost: 19.651\n"
     ]
    }
   ],
   "source": [
    "IN=Lab\n",
    "OUT=Label\n",
    "Tr1=IN[rs:re,1]\n",
    "Tr2=IN[rs:re,2]\n",
    "Ts1=IN[ss:se,1]\n",
    "Ts2=IN[ss:se,2]\n",
    "TrL=OUT[rs:re,0]\n",
    "TsL=OUT[ss:se,0]\n",
    "\n",
    "with tf.device(device_type):\n",
    "    for step in xrange(total_iteration):\n",
    "        sess.run(optimizer2, feed_dict={X1:Tr1,X2:Tr2, Y:TrL})\n",
    "\n",
    "        if step%display_step == 0:\n",
    "            costval2 = sess.run(cost2, feed_dict={X1:Tr1,X2:Tr2, Y:TrL})\n",
    "            testcost2 = sess.run(cost2, feed_dict={X1:Ts1,X2:Ts2, Y:TsL})\n",
    "            print('Tr cost = %.3f Ts cost = %.3f' %(costval2, testcost2))\n",
    "\n",
    "    W21out=sess.run(W21)\n",
    "    W22out=sess.run(W22)\n",
    "    W23out=sess.run(W23)\n",
    "    W24out=sess.run(W24)\n",
    "    W25out=sess.run(W25)\n",
    "    print(' W21 = %.3f \\n W22 = %.3f \\n W23 = %.3f \\n W24 = %.3f \\n W25 = %.3f' %(W21out, W22out, W23out, W24out, W25out))\n",
    "    \n",
    "    cost_out=(tf.square(out2 - Y))\n",
    "    cost_outp = sess.run(cost_out, feed_dict={X1:Ts1, X2:Ts2, Y:TsL})\n",
    "    print('max_cost: %.3f' %(np.max(cost_outp)))"
   ]
  },
  {
   "cell_type": "code",
   "execution_count": 29,
   "metadata": {
    "collapsed": false,
    "deletable": true,
    "editable": true
   },
   "outputs": [
    {
     "name": "stdout",
     "output_type": "stream",
     "text": [
      "Tr cost = 206.865 Ts cost = 206.887\n",
      "Tr cost = 17.996 Ts cost = 18.834\n",
      "Tr cost = 10.765 Ts cost = 10.905\n",
      "Tr cost = 6.034 Ts cost = 5.523\n",
      "Tr cost = 3.746 Ts cost = 2.638\n",
      "Tr cost = 3.370 Ts cost = 1.991\n",
      "Tr cost = 3.232 Ts cost = 1.846\n",
      "Tr cost = 3.129 Ts cost = 1.762\n",
      "Tr cost = 3.055 Ts cost = 1.728\n",
      "Tr cost = 3.006 Ts cost = 1.728\n",
      "Tr cost = 2.973 Ts cost = 1.748\n",
      "Tr cost = 2.952 Ts cost = 1.778\n",
      "Tr cost = 2.940 Ts cost = 1.810\n",
      "Tr cost = 2.932 Ts cost = 1.839\n",
      "Tr cost = 2.927 Ts cost = 1.863\n",
      "Tr cost = 2.923 Ts cost = 1.883\n",
      "Tr cost = 2.921 Ts cost = 1.899\n",
      "Tr cost = 2.918 Ts cost = 1.912\n",
      "Tr cost = 2.916 Ts cost = 1.921\n",
      "Tr cost = 2.915 Ts cost = 1.928\n",
      " W31 = 279.827 \n",
      " W32 = 1195.563 \n",
      " W33 = 151.111 \n",
      " W34 = 782.858 \n",
      " W35 = -302.467\n",
      "max_cost: 16.348\n"
     ]
    }
   ],
   "source": [
    "IN=uv\n",
    "OUT=Label\n",
    "Tr1=IN[rs:re,0]\n",
    "Tr2=IN[rs:re,1]\n",
    "Ts1=IN[ss:se,0]\n",
    "Ts2=IN[ss:se,1]\n",
    "TrL=OUT[rs:re,0]\n",
    "TsL=OUT[ss:se,0]\n",
    "\n",
    "with tf.device(device_type):\n",
    "    for step in xrange(total_iteration):\n",
    "        sess.run(optimizer3, feed_dict={X1:Tr1,X2:Tr2, Y:TrL})\n",
    "\n",
    "        if step%display_step == 0:\n",
    "            costval3 = sess.run(cost3, feed_dict={X1:Tr1,X2:Tr2, Y:TrL})\n",
    "            testcost3 = sess.run(cost3, feed_dict={X1:Ts1,X2:Ts2, Y:TsL})\n",
    "            print('Tr cost = %.3f Ts cost = %.3f' %(costval3, testcost3))\n",
    "\n",
    "    W31out=sess.run(W31)\n",
    "    W32out=sess.run(W32)\n",
    "    W33out=sess.run(W33)\n",
    "    W34out=sess.run(W34)\n",
    "    W35out=sess.run(W35)\n",
    "    print(' W31 = %.3f \\n W32 = %.3f \\n W33 = %.3f \\n W34 = %.3f \\n W35 = %.3f' %(W31out, W32out, W33out, W34out, W35out))\n",
    "    cost_out=(tf.square(out3 - Y))\n",
    "    cost_outp = sess.run(cost_out, feed_dict={X1:Ts1, X2:Ts2, Y:TsL})\n",
    "    print('max_cost: %.3f' %(np.max(cost_outp)))\n",
    "    "
   ]
  },
  {
   "cell_type": "code",
   "execution_count": 30,
   "metadata": {
    "collapsed": false,
    "deletable": true,
    "editable": true
   },
   "outputs": [
    {
     "name": "stdout",
     "output_type": "stream",
     "text": [
      "[ -9.61914062e-02  -1.21582031e-01   2.77038574e-01  -9.21630859e-03\n",
      "  -9.27734375e-02   2.22045898e-01   2.43530273e-01   3.22265625e-01\n",
      "   2.77954102e-01  -3.05175781e-02   9.04602051e-01   9.47265625e-01\n",
      "   9.03259277e-01   8.76464844e-01   7.61779785e-01   8.92272949e-01\n",
      "   8.62182617e-01   7.65625000e-01   8.17199707e-01   9.04602051e-01\n",
      "   6.94274902e-01   4.21264648e-01   1.88232422e-01   7.61535645e-01\n",
      "   6.37329102e-01   3.04748535e-01   4.96520996e-01   8.23181152e-01\n",
      "   7.84851074e-01   5.59204102e-01   4.29809570e+00   5.29089355e+00\n",
      "   5.26129150e+00   5.25579834e+00   6.94000244e+00   3.67871094e+00\n",
      "   4.25091553e+00   4.91082764e+00   5.25128174e+00   5.24047852e+00\n",
      "   1.05086060e+01   1.17188110e+01   1.18861694e+01   1.19683838e+01\n",
      "   8.89538574e+00   1.24053345e+01   9.57958984e+00   9.36224365e+00\n",
      "   1.16829224e+01   1.08418579e+01   1.68171387e+01   1.70255127e+01\n",
      "   1.83181152e+01   1.69368286e+01   1.76911621e+01   1.59567261e+01\n",
      "   1.59992065e+01   1.64807129e+01   1.81928711e+01   1.80524902e+01\n",
      "   3.06774902e+01   3.05910645e+01   3.10379639e+01   3.01905518e+01\n",
      "   2.95297852e+01   3.07993164e+01   2.96169434e+01   3.01418457e+01\n",
      "   3.04642334e+01   3.06542969e+01]\n"
     ]
    }
   ],
   "source": [
    "test_out = sess.run(out3, feed_dict={X1:Ts1[0:139], X2:Ts2[0:139]})\n",
    "print(test_out)"
   ]
  },
  {
   "cell_type": "code",
   "execution_count": 31,
   "metadata": {
    "collapsed": false,
    "deletable": true,
    "editable": true
   },
   "outputs": [
    {
     "name": "stdout",
     "output_type": "stream",
     "text": [
      "Tr cost = 220.046 Ts cost = 219.101\n",
      "Tr cost = 3.707 Ts cost = 3.643\n",
      "Tr cost = 3.646 Ts cost = 3.684\n",
      "Tr cost = 3.646 Ts cost = 3.684\n",
      "Tr cost = 3.646 Ts cost = 3.683\n",
      "Tr cost = 3.646 Ts cost = 3.683\n",
      "Tr cost = 3.646 Ts cost = 3.683\n",
      "Tr cost = 3.646 Ts cost = 3.683\n",
      "Tr cost = 3.646 Ts cost = 3.683\n",
      "Tr cost = 3.646 Ts cost = 3.684\n",
      "Tr cost = 3.646 Ts cost = 3.683\n",
      "Tr cost = 3.646 Ts cost = 3.683\n",
      "Tr cost = 3.646 Ts cost = 3.683\n",
      "Tr cost = 3.646 Ts cost = 3.683\n",
      "Tr cost = 3.646 Ts cost = 3.683\n",
      "Tr cost = 3.646 Ts cost = 3.683\n",
      "Tr cost = 3.646 Ts cost = 3.683\n",
      "Tr cost = 3.646 Ts cost = 3.683\n",
      "Tr cost = 3.646 Ts cost = 3.683\n",
      "Tr cost = 3.646 Ts cost = 3.683\n",
      " W41 = -100.342 \n",
      " W42 = 11.898 \n",
      " W43 = 21.147 \n",
      " W44 = 47.996 \n",
      " W45 = 2.385\n",
      "max_cost: 20.941\n"
     ]
    }
   ],
   "source": [
    "IN=xyz\n",
    "OUT=Label\n",
    "Tr1=IN[rs:re,0]\n",
    "Tr2=IN[rs:re,1]\n",
    "Ts1=IN[ss:se,0]\n",
    "Ts2=IN[ss:se,1]\n",
    "TrL=OUT[rs:re,0]\n",
    "TsL=OUT[ss:se,0]\n",
    "\n",
    "with tf.device(device_type):\n",
    "    for step in xrange(total_iteration):\n",
    "        sess.run(optimizer4, feed_dict={X1:Tr1,X2:Tr2, Y:TrL})\n",
    "\n",
    "        if step%display_step == 0:\n",
    "            costval4 = sess.run(cost4, feed_dict={X1:Tr1,X2:Tr2, Y:TrL})\n",
    "            testcost4 = sess.run(cost4, feed_dict={X1:Ts1,X2:Ts2, Y:TsL})\n",
    "            print('Tr cost = %.3f Ts cost = %.3f' %(costval4, testcost4))\n",
    "\n",
    "    W41out=sess.run(W41)\n",
    "    W42out=sess.run(W42)\n",
    "    W43out=sess.run(W43)\n",
    "    W44out=sess.run(W44)\n",
    "    W45out=sess.run(W45)\n",
    "    print(' W41 = %.3f \\n W42 = %.3f \\n W43 = %.3f \\n W44 = %.3f \\n W45 = %.3f' %(W41out, W42out, W43out, W44out, W45out))\n",
    "    cost_out=(tf.square(out4 - Y))\n",
    "    cost_outp = sess.run(cost_out, feed_dict={X1:Ts1, X2:Ts2, Y:TsL})\n",
    "    print('max_cost: %.3f' %(np.max(cost_outp)))"
   ]
  },
  {
   "cell_type": "code",
   "execution_count": 32,
   "metadata": {
    "collapsed": false,
    "deletable": true,
    "editable": true
   },
   "outputs": [
    {
     "name": "stdout",
     "output_type": "stream",
     "text": [
      "Tr cost = 207.760 Ts cost = 207.528\n",
      "Tr cost = 11.893 Ts cost = 11.011\n",
      "Tr cost = 7.497 Ts cost = 9.861\n",
      "Tr cost = 5.985 Ts cost = 10.301\n",
      "Tr cost = 5.151 Ts cost = 11.030\n",
      "Tr cost = 4.940 Ts cost = 11.927\n",
      "Tr cost = 4.937 Ts cost = 11.993\n",
      "Tr cost = 4.937 Ts cost = 12.009\n",
      "Tr cost = 4.937 Ts cost = 12.013\n",
      "Tr cost = 4.937 Ts cost = 12.015\n",
      "Tr cost = 4.937 Ts cost = 12.016\n",
      "Tr cost = 4.937 Ts cost = 12.016\n",
      "Tr cost = 4.937 Ts cost = 12.016\n",
      "Tr cost = 4.937 Ts cost = 12.016\n",
      "Tr cost = 4.937 Ts cost = 12.016\n",
      "Tr cost = 4.937 Ts cost = 12.016\n",
      "Tr cost = 4.937 Ts cost = 12.015\n",
      "Tr cost = 4.937 Ts cost = 12.016\n",
      "Tr cost = 4.937 Ts cost = 12.016\n",
      "Tr cost = 4.937 Ts cost = 12.015\n",
      " W51 = 264.101 \n",
      " W52 = 79.741 \n",
      " W53 = -394.310 \n",
      " W54 = -214.050 \n",
      " W55 = 260.711\n",
      "max_cost: 69.255\n"
     ]
    }
   ],
   "source": [
    "IN=YCbCr\n",
    "OUT=Label\n",
    "Tr1=IN[rs:re,1]\n",
    "Tr2=IN[rs:re,2]\n",
    "Ts1=IN[ss:se,1]\n",
    "Ts2=IN[ss:se,2]\n",
    "TrL=OUT[rs:re,0]\n",
    "TsL=OUT[ss:se,0]\n",
    "\n",
    "with tf.device(device_type):\n",
    "    for step in xrange(total_iteration):\n",
    "        sess.run(optimizer5, feed_dict={X1:Tr1,X2:Tr2, Y:TrL})\n",
    "\n",
    "        if step%display_step == 0:\n",
    "            costval5 = sess.run(cost5, feed_dict={X1:Tr1,X2:Tr2, Y:TrL})\n",
    "            testcost5 = sess.run(cost5, feed_dict={X1:Ts1,X2:Ts2, Y:TsL})\n",
    "            print('Tr cost = %.3f Ts cost = %.3f' %(costval5, testcost5))\n",
    "\n",
    "    W51out=sess.run(W51)\n",
    "    W52out=sess.run(W52)\n",
    "    W53out=sess.run(W53)\n",
    "    W54out=sess.run(W54)\n",
    "    W55out=sess.run(W55)\n",
    "    print(' W51 = %.3f \\n W52 = %.3f \\n W53 = %.3f \\n W54 = %.3f \\n W55 = %.3f' %(W51out, W52out, W53out, W54out, W55out))\n",
    "    cost_out=(tf.square(out5 - Y))\n",
    "    cost_outp = sess.run(cost_out, feed_dict={X1:Ts1, X2:Ts2, Y:TsL})\n",
    "    print('max_cost: %.3f' %(np.max(cost_outp)))"
   ]
  },
  {
   "cell_type": "code",
   "execution_count": 20,
   "metadata": {
    "collapsed": false,
    "deletable": true,
    "editable": true
   },
   "outputs": [
    {
     "name": "stdout",
     "output_type": "stream",
     "text": [
      "Tr cost = 1.665 Ts cost = 0.650\n",
      "Tr cost = 1.665 Ts cost = 0.649\n",
      "Tr cost = 1.665 Ts cost = 0.649\n",
      "Tr cost = 1.665 Ts cost = 0.649\n",
      "Tr cost = 1.665 Ts cost = 0.649\n",
      "Tr cost = 1.665 Ts cost = 0.648\n",
      "Tr cost = 1.665 Ts cost = 0.648\n",
      "Tr cost = 1.665 Ts cost = 0.648\n",
      "Tr cost = 1.665 Ts cost = 0.648\n",
      "Tr cost = 1.665 Ts cost = 0.647\n",
      "Tr cost = 1.665 Ts cost = 0.647\n",
      "Tr cost = 1.665 Ts cost = 0.647\n",
      "Tr cost = 1.665 Ts cost = 0.647\n",
      "Tr cost = 1.665 Ts cost = 0.646\n",
      "Tr cost = 1.665 Ts cost = 0.646\n",
      "Tr cost = 1.665 Ts cost = 0.646\n",
      "Tr cost = 1.665 Ts cost = 0.646\n",
      "Tr cost = 1.665 Ts cost = 0.646\n",
      "Tr cost = 1.665 Ts cost = 0.645\n",
      "Tr cost = 1.665 Ts cost = 0.645\n",
      " W51 = -39.220 \n",
      " W52 = 174.793 \n",
      " W53 = 731.698 \n",
      " W54 = -11.865 \n",
      " W55 = -627.933\n",
      "max_cost: 5.279\n"
     ]
    }
   ],
   "source": [
    "IN=HSV_linear\n",
    "OUT=Label\n",
    "Tr1=IN[rs:re,0]\n",
    "Tr2=IN[rs:re,1]\n",
    "Ts1=IN[ss:se,0]\n",
    "Ts2=IN[ss:se,1]\n",
    "TrL=OUT[rs:re,0]\n",
    "TsL=OUT[ss:se,0]\n",
    "\n",
    "with tf.device(device_type):\n",
    "    for step in xrange(total_iteration):\n",
    "        sess.run(optimizer6, feed_dict={X1:Tr1,X2:Tr2, Y:TrL})\n",
    "\n",
    "        if step%display_step == 0:\n",
    "            costval6 = sess.run(cost6, feed_dict={X1:Tr1,X2:Tr2, Y:TrL})\n",
    "            testcost6 = sess.run(cost6, feed_dict={X1:Ts1,X2:Ts2, Y:TsL})\n",
    "            print('Tr cost = %.3f Ts cost = %.3f' %(costval6, testcost6))\n",
    "\n",
    "    W51out=sess.run(W[0,0])\n",
    "    W52out=sess.run(W[0,1])\n",
    "    W53out=sess.run(W[0,2])\n",
    "    W54out=sess.run(W[0,3])\n",
    "    W55out=sess.run(W[0,4])\n",
    "    print(' W51 = %.3f \\n W52 = %.3f \\n W53 = %.3f \\n W54 = %.3f \\n W55 = %.3f' %(W51out, W52out, W53out, W54out, W55out))\n",
    "    cost_out=(tf.square(out6 - Y))\n",
    "    cost_outp = sess.run(cost_out, feed_dict={X1:Ts1, X2:Ts2, Y:TsL})\n",
    "    print('max_cost: %.3f' %(np.max(cost_outp)))\n",
    "    "
   ]
  },
  {
   "cell_type": "code",
   "execution_count": 21,
   "metadata": {
    "collapsed": false
   },
   "outputs": [
    {
     "name": "stdout",
     "output_type": "stream",
     "text": [
      "c1: 0.131, c2: 0.004, c3: 0.266, c4: 1.416, c5: 1.404, c6: 1.184, c7: 0.110\n"
     ]
    },
    {
     "data": {
      "text/plain": [
       "array([ 0.5,  0.5,  0.5,  0.5,  0.5,  0.5,  0.5,  0.5,  0.5,  0.5,  1. ,\n",
       "        1. ,  1. ,  1. ,  1. ])"
      ]
     },
     "execution_count": 21,
     "metadata": {},
     "output_type": "execute_result"
    }
   ],
   "source": [
    "c1=sess.run(cost6, feed_dict={X1:Ts1[:10], X2:Ts2[:10], Y:TsL[:10]})\n",
    "c2=sess.run(cost6, feed_dict={X1:Ts1[10:20], X2:Ts2[10:20], Y:TsL[10:20]})\n",
    "c3=sess.run(cost6, feed_dict={X1:Ts1[20:30], X2:Ts2[20:30], Y:TsL[20:30]})\n",
    "c4=sess.run(cost6, feed_dict={X1:Ts1[30:40], X2:Ts2[30:40], Y:TsL[30:40]})\n",
    "c5=sess.run(cost6, feed_dict={X1:Ts1[40:50], X2:Ts2[40:50], Y:TsL[40:50]})\n",
    "c6=sess.run(cost6, feed_dict={X1:Ts1[50:60], X2:Ts2[50:60], Y:TsL[50:60]})\n",
    "c7=sess.run(cost6, feed_dict={X1:Ts1[60:70], X2:Ts2[60:70], Y:TsL[60:70]})\n",
    "\n",
    "print(\"c1: %.3f, c2: %.3f, c3: %.3f, c4: %.3f, c5: %.3f, c6: %.3f, c7: %.3f\" %(c1, c2, c3, c4, c5, c6, c7))\n",
    "TsL[10:25]"
   ]
  },
  {
   "cell_type": "code",
   "execution_count": 34,
   "metadata": {
    "collapsed": false,
    "deletable": true,
    "editable": true
   },
   "outputs": [
    {
     "name": "stdout",
     "output_type": "stream",
     "text": [
      "[  0.34089661   0.33937073   0.36367798   0.34675598   0.33857727\n",
      "   0.35957336   0.36514282   0.36833191   0.36529541   0.34638977\n",
      "   0.40605164   0.41271973   0.41908264   0.42060852   0.42672729\n",
      "   0.43357849   0.43141174   0.41477966   0.41531372   0.40605164\n",
      "   0.42605591   0.44255066   0.43614197   0.47813416   0.47494507\n",
      "   0.54501343   0.48596191   0.47439575   0.46234131   0.45822144\n",
      "   4.54515076   5.21313477   5.26574707   5.26921082   6.30819702\n",
      "   4.18089294   4.58822632   5.03598022   5.26939392   5.15184021\n",
      "   9.60816956  10.99932861  11.21813965  11.32563782   8.49116516\n",
      "  11.68476868   8.66111755   8.63494873  10.88539124   9.97302246\n",
      "  18.45794678  19.22850037  20.4631958   19.12161255  20.08958435\n",
      "  17.68475342  17.76055908  18.17259216  20.13232422  19.96408081\n",
      "  30.50257874  30.47451782  30.67103577  30.26594543  29.89544678\n",
      "  30.55982971  29.94624329  30.23193359  30.41633606  30.51005554]\n"
     ]
    }
   ],
   "source": [
    "testcheck=sess.run(out6, feed_dict={X1:Ts1, X2:Ts2, Y:TsL})\n",
    "print(testcheck)"
   ]
  },
  {
   "cell_type": "code",
   "execution_count": 35,
   "metadata": {
    "collapsed": false,
    "deletable": true,
    "editable": true
   },
   "outputs": [
    {
     "name": "stdout",
     "output_type": "stream",
     "text": [
      "Tr cost = 180.855 Ts cost = 181.318\n",
      "Tr cost = 4.523 Ts cost = 4.559\n",
      "Tr cost = 4.390 Ts cost = 4.471\n",
      "Tr cost = 4.389 Ts cost = 4.473\n",
      "Tr cost = 4.389 Ts cost = 4.473\n",
      "Tr cost = 4.389 Ts cost = 4.473\n",
      "Tr cost = 4.389 Ts cost = 4.473\n",
      "Tr cost = 4.389 Ts cost = 4.473\n",
      "Tr cost = 4.389 Ts cost = 4.473\n",
      "Tr cost = 4.389 Ts cost = 4.473\n",
      "Tr cost = 4.389 Ts cost = 4.473\n",
      "Tr cost = 4.389 Ts cost = 4.473\n",
      "Tr cost = 4.389 Ts cost = 4.473\n",
      "Tr cost = 4.389 Ts cost = 4.473\n",
      "Tr cost = 4.389 Ts cost = 4.474\n",
      "Tr cost = 4.389 Ts cost = 4.474\n",
      "Tr cost = 4.389 Ts cost = 4.473\n",
      "Tr cost = 4.389 Ts cost = 4.473\n",
      "Tr cost = 4.389 Ts cost = 4.473\n",
      "Tr cost = 4.389 Ts cost = 4.473\n",
      " W51 = 3.009 \n",
      " W52 = -50.802 \n",
      " W53 = -12.903 \n",
      " W54 = 93.384 \n",
      " W55 = -23.649\n",
      "max_cost: 19.493\n"
     ]
    }
   ],
   "source": [
    "IN=Lab_linear\n",
    "OUT=Label\n",
    "Tr1=IN[rs:re,1]\n",
    "Tr2=IN[rs:re,2]\n",
    "Ts1=IN[ss:se,1]\n",
    "Ts2=IN[ss:se,2]\n",
    "TrL=OUT[rs:re,0]\n",
    "TsL=OUT[ss:se,0]\n",
    "\n",
    "with tf.device(device_type):\n",
    "    for step in xrange(total_iteration):\n",
    "        sess.run(optimizer7, feed_dict={X1:Tr1,X2:Tr2, Y:TrL})\n",
    "\n",
    "        if step%display_step == 0:\n",
    "            costval7 = sess.run(cost7, feed_dict={X1:Tr1,X2:Tr2, Y:TrL})\n",
    "            testcost7 = sess.run(cost7, feed_dict={X1:Ts1,X2:Ts2, Y:TsL})\n",
    "            print('Tr cost = %.3f Ts cost = %.3f' %(costval7, testcost7))\n",
    "\n",
    "    W51out=sess.run(W[1,0])\n",
    "    W52out=sess.run(W[1,1])\n",
    "    W53out=sess.run(W[1,2])\n",
    "    W54out=sess.run(W[1,3])\n",
    "    W55out=sess.run(W[1,4])\n",
    "    print(' W51 = %.3f \\n W52 = %.3f \\n W53 = %.3f \\n W54 = %.3f \\n W55 = %.3f' %(W51out, W52out, W53out, W54out, W55out))\n",
    "    cost_out=(tf.square(out7 - Y))\n",
    "    cost_outp = sess.run(cost_out, feed_dict={X1:Ts1, X2:Ts2, Y:TsL})\n",
    "    print('max_cost: %.3f' %(np.max(cost_outp)))"
   ]
  },
  {
   "cell_type": "code",
   "execution_count": 7,
   "metadata": {
    "collapsed": false,
    "deletable": true,
    "editable": true
   },
   "outputs": [
    {
     "name": "stdout",
     "output_type": "stream",
     "text": [
      "Tr cost = 180.024 Ts cost = 180.738\n",
      "Tr cost = 3.382 Ts cost = 8.913\n",
      "Tr cost = 2.824 Ts cost = 7.128\n",
      "Tr cost = 2.678 Ts cost = 6.463\n",
      "Tr cost = 2.647 Ts cost = 6.254\n",
      "Tr cost = 2.647 Ts cost = 6.228\n",
      "Tr cost = 2.647 Ts cost = 6.228\n",
      "Tr cost = 2.647 Ts cost = 6.226\n",
      "Tr cost = 2.647 Ts cost = 6.226\n",
      "Tr cost = 2.647 Ts cost = 6.226\n",
      "Tr cost = 2.647 Ts cost = 6.227\n",
      "Tr cost = 2.647 Ts cost = 6.226\n",
      "Tr cost = 2.647 Ts cost = 6.226\n",
      "Tr cost = 2.647 Ts cost = 6.226\n",
      "Tr cost = 2.647 Ts cost = 6.226\n",
      "Tr cost = 2.647 Ts cost = 6.227\n",
      "Tr cost = 2.647 Ts cost = 6.225\n",
      "Tr cost = 2.647 Ts cost = 6.226\n",
      "Tr cost = 2.647 Ts cost = 6.227\n",
      "Tr cost = 2.647 Ts cost = 6.224\n",
      " W51 = 14.452 \n",
      " W52 = 77.184 \n",
      " W53 = 213.913 \n",
      " W54 = -24.163 \n",
      " W55 = -23.281 \n",
      " W56 = 188.878 \n",
      " W57 = 30.838 \n",
      " W58 = -174.115 \n",
      " W59 = -235.869\n",
      "max_cost: 35.484\n"
     ]
    }
   ],
   "source": [
    "IN=RGB\n",
    "OUT=Label\n",
    "Tr1=IN[rs:re,0]\n",
    "Tr2=IN[rs:re,1]\n",
    "Tr3=IN[rs:re,2]\n",
    "Ts1=IN[ss:se,0]\n",
    "Ts2=IN[ss:se,1]\n",
    "Ts3=IN[ss:se,2]\n",
    "TrL=OUT[rs:re,0]\n",
    "TsL=OUT[ss:se,0]\n",
    "\n",
    "with tf.device(device_type):\n",
    "    for step in xrange(total_iteration):\n",
    "        sess.run(optimizer8, feed_dict={X1:Tr1,X2:Tr2,X3:Tr3, Y:TrL})\n",
    "\n",
    "        if step%display_step == 0:\n",
    "            costval8 = sess.run(cost8, feed_dict={X1:Tr1,X2:Tr2,X3:Tr3, Y:TrL})\n",
    "            testcost8 = sess.run(cost8, feed_dict={X1:Ts1,X2:Ts2,X3:Ts3, Y:TsL})\n",
    "            print('Tr cost = %.3f Ts cost = %.3f' %(costval8, testcost8))\n",
    "\n",
    "    W51out=sess.run(W[2,0])\n",
    "    W52out=sess.run(W[2,1])\n",
    "    W53out=sess.run(W[2,2])\n",
    "    W54out=sess.run(W[2,3])\n",
    "    W55out=sess.run(W[2,4])\n",
    "    W56out=sess.run(W[2,5])\n",
    "    W57out=sess.run(W[2,6])\n",
    "    W58out=sess.run(W[2,7])\n",
    "    W59out=sess.run(W[2,8])\n",
    "    print(' W51 = %.3f \\n W52 = %.3f \\n W53 = %.3f \\n W54 = %.3f \\n W55 = %.3f \\n W56 = %.3f \\n W57 = %.3f \\n W58 = %.3f \\n W59 = %.3f' %(W51out, W52out, W53out, W54out, W55out, W56out, W57out, W58out, W59out))\n",
    "    cost_out=(tf.square(out8 - Y))\n",
    "    cost_outp = sess.run(cost_out, feed_dict={X1:Ts1, X2:Ts2, X3:Ts3, Y:TsL})\n",
    "    print('max_cost: %.3f' %(np.max(cost_outp)))"
   ]
  },
  {
   "cell_type": "code",
   "execution_count": 37,
   "metadata": {
    "collapsed": false,
    "deletable": true,
    "editable": true,
    "scrolled": false
   },
   "outputs": [
    {
     "name": "stdout",
     "output_type": "stream",
     "text": [
      "Tr cost = 194.148 Ts cost = 194.041\n",
      "Tr cost = 6.247 Ts cost = 10.158\n",
      "Tr cost = 5.980 Ts cost = 11.370\n",
      "Tr cost = 5.980 Ts cost = 11.370\n",
      "Tr cost = 5.980 Ts cost = 11.370\n",
      "Tr cost = 5.980 Ts cost = 11.370\n",
      "Tr cost = 5.980 Ts cost = 11.370\n",
      "Tr cost = 5.980 Ts cost = 11.367\n",
      "Tr cost = 5.980 Ts cost = 11.367\n",
      "Tr cost = 5.980 Ts cost = 11.369\n",
      "Tr cost = 5.980 Ts cost = 11.370\n",
      "Tr cost = 5.980 Ts cost = 11.368\n",
      "Tr cost = 5.980 Ts cost = 11.370\n",
      "Tr cost = 5.980 Ts cost = 11.367\n",
      "Tr cost = 5.980 Ts cost = 11.370\n",
      "Tr cost = 5.980 Ts cost = 11.370\n",
      "Tr cost = 5.980 Ts cost = 11.370\n",
      "Tr cost = 5.980 Ts cost = 11.370\n",
      "Tr cost = 5.980 Ts cost = 11.370\n",
      "Tr cost = 5.980 Ts cost = 11.370\n",
      " W51 = -0.311 \n",
      " W52 = 0.562 \n",
      " W53 = 0.038 \n",
      " W54 = 0.222 \n",
      " W55 = -0.963 \n",
      " W56 = -0.422 \n",
      " W57 = -0.091 \n",
      " W58 = -0.503 \n",
      " W59 = -0.889\n",
      "max_cost: 44.207\n"
     ]
    }
   ],
   "source": [
    "IN=RGB_linear\n",
    "OUT=Label\n",
    "Tr1=IN[rs:re,0]\n",
    "Tr2=IN[rs:re,1]\n",
    "Tr3=IN[rs:re,2]\n",
    "Ts1=IN[ss:se,0]\n",
    "Ts2=IN[ss:se,1]\n",
    "Ts3=IN[ss:se,2]\n",
    "TrL=OUT[rs:re,0]\n",
    "TsL=OUT[ss:se,0]\n",
    "\n",
    "with tf.device(device_type):\n",
    "    for step in xrange(total_iteration):\n",
    "        sess.run(optimizer9, feed_dict={X1:Tr1,X2:Tr2,X3:Tr3, Y:TrL})\n",
    "\n",
    "        if step%display_step == 0:\n",
    "            costval9 = sess.run(cost9, feed_dict={X1:Tr1,X2:Tr2,X3:Tr3, Y:TrL})\n",
    "            testcost9 = sess.run(cost9, feed_dict={X1:Ts1,X2:Ts2,X3:Ts3, Y:TsL})\n",
    "            print('Tr cost = %.3f Ts cost = %.3f' %(costval9, testcost9))\n",
    "\n",
    "    W51out=sess.run(W[4,0])\n",
    "    W52out=sess.run(W[4,1])\n",
    "    W53out=sess.run(W[4,2])\n",
    "    W54out=sess.run(W[4,3])\n",
    "    W55out=sess.run(W[4,4])\n",
    "    W56out=sess.run(W[4,5])\n",
    "    W57out=sess.run(W[4,6])\n",
    "    W58out=sess.run(W[4,7])\n",
    "    W59out=sess.run(W[4,8])\n",
    "    print(' W51 = %.3f \\n W52 = %.3f \\n W53 = %.3f \\n W54 = %.3f \\n W55 = %.3f \\n W56 = %.3f \\n W57 = %.3f \\n W58 = %.3f \\n W59 = %.3f' %(W51out, W52out, W53out, W54out, W55out, W56out, W57out, W58out, W59out))\n",
    "    cost_out=(tf.square(out9 - Y))\n",
    "    cost_outp = sess.run(cost_out, feed_dict={X1:Ts1, X2:Ts2, X3: Ts3, Y:TsL})\n",
    "    print('max_cost: %.3f' %(np.max(cost_outp)))"
   ]
  },
  {
   "cell_type": "code",
   "execution_count": 38,
   "metadata": {
    "collapsed": false,
    "deletable": true,
    "editable": true
   },
   "outputs": [
    {
     "name": "stdout",
     "output_type": "stream",
     "text": [
      "Tr cost = 202.544 Ts cost = 202.636\n",
      "Tr cost = 35.579 Ts cost = 37.648\n",
      "Tr cost = 33.827 Ts cost = 37.482\n",
      "Tr cost = 32.555 Ts cost = 35.954\n",
      "Tr cost = 31.322 Ts cost = 34.496\n",
      "Tr cost = 30.128 Ts cost = 33.103\n",
      "Tr cost = 28.974 Ts cost = 31.771\n",
      "Tr cost = 27.858 Ts cost = 30.505\n",
      "Tr cost = 26.781 Ts cost = 29.301\n",
      "Tr cost = 25.744 Ts cost = 28.161\n",
      "Tr cost = 24.746 Ts cost = 27.085\n",
      "Tr cost = 23.788 Ts cost = 26.073\n",
      "Tr cost = 22.868 Ts cost = 25.124\n",
      "Tr cost = 21.988 Ts cost = 24.239\n",
      "Tr cost = 21.147 Ts cost = 23.418\n",
      "Tr cost = 20.347 Ts cost = 22.664\n",
      "Tr cost = 19.586 Ts cost = 21.971\n",
      "Tr cost = 18.865 Ts cost = 21.344\n",
      "Tr cost = 18.184 Ts cost = 20.781\n",
      "Tr cost = 17.543 Ts cost = 20.283\n",
      " W51 = 1790.339 \n",
      " W52 = 1793.171 \n",
      " W53 = -1594.813 \n",
      " W54 = -1947.140 \n",
      " W55 = -316.558\n",
      "max_cost: 76.259\n"
     ]
    }
   ],
   "source": [
    "IN=YCbCr_linear\n",
    "OUT=Label\n",
    "Tr1=IN[rs:re,1]\n",
    "Tr2=IN[rs:re,2]\n",
    "Ts1=IN[ss:se,1]\n",
    "Ts2=IN[ss:se,2]\n",
    "TrL=OUT[rs:re,0]\n",
    "TsL=OUT[ss:se,0]\n",
    "\n",
    "with tf.device(device_type):\n",
    "    for step in xrange(total_iteration):\n",
    "        sess.run(optimizer10, feed_dict={X1:Tr1,X2:Tr2, Y:TrL})\n",
    "\n",
    "        if step%display_step == 0:\n",
    "            costval10 = sess.run(cost10, feed_dict={X1:Tr1,X2:Tr2, Y:TrL})\n",
    "            testcost10 = sess.run(cost10, feed_dict={X1:Ts1,X2:Ts2, Y:TsL})\n",
    "            print('Tr cost = %.3f Ts cost = %.3f' %(costval10, testcost10))\n",
    "\n",
    "    W51out=sess.run(W[4,0])\n",
    "    W52out=sess.run(W[4,1])\n",
    "    W53out=sess.run(W[4,2])\n",
    "    W54out=sess.run(W[4,3])\n",
    "    W55out=sess.run(W[4,4])\n",
    "    print(' W51 = %.3f \\n W52 = %.3f \\n W53 = %.3f \\n W54 = %.3f \\n W55 = %.3f' %(W51out, W52out, W53out, W54out, W55out))\n",
    "    cost_out=(tf.square(out10 - Y))\n",
    "    cost_outp = sess.run(cost_out, feed_dict={X1:Ts1, X2:Ts2, Y:TsL})\n",
    "    print('max_cost: %.3f' %(np.max(cost_outp)))"
   ]
  },
  {
   "cell_type": "code",
   "execution_count": null,
   "metadata": {
    "collapsed": false,
    "deletable": true,
    "editable": true
   },
   "outputs": [],
   "source": [
    "YCbCr[:,1]"
   ]
  },
  {
   "cell_type": "code",
   "execution_count": null,
   "metadata": {
    "collapsed": false,
    "deletable": true,
    "editable": true
   },
   "outputs": [],
   "source": [
    "plt.plot(YCbCr[:,1], 'ro')"
   ]
  },
  {
   "cell_type": "code",
   "execution_count": null,
   "metadata": {
    "collapsed": false,
    "deletable": true,
    "editable": true
   },
   "outputs": [],
   "source": [
    "plt.plot(YCbCr[:,2], 'bo')"
   ]
  },
  {
   "cell_type": "code",
   "execution_count": null,
   "metadata": {
    "collapsed": false,
    "deletable": true,
    "editable": true
   },
   "outputs": [],
   "source": [
    "L2"
   ]
  },
  {
   "cell_type": "code",
   "execution_count": null,
   "metadata": {
    "collapsed": true,
    "deletable": true,
    "editable": true
   },
   "outputs": [],
   "source": []
  }
 ],
 "metadata": {
  "anaconda-cloud": {},
  "kernelspec": {
   "display_name": "Python 2",
   "language": "python",
   "name": "python2"
  },
  "language_info": {
   "codemirror_mode": {
    "name": "ipython",
    "version": 2
   },
   "file_extension": ".py",
   "mimetype": "text/x-python",
   "name": "python",
   "nbconvert_exporter": "python",
   "pygments_lexer": "ipython2",
   "version": "2.7.12"
  }
 },
 "nbformat": 4,
 "nbformat_minor": 1
}
